{
 "metadata": {
  "name": "",
  "signature": "sha256:c7b76cb64a516b1c41793dc3e6342805a7025f891b633621d04493367fec5be3"
 },
 "nbformat": 3,
 "nbformat_minor": 0,
 "worksheets": [
  {
   "cells": [
    {
     "cell_type": "markdown",
     "metadata": {},
     "source": [
      "In COBRApy version 0.3.0b4 and later, you can generate JSON files for COBRA models, and these files are compatible with Escher. \n",
      "\n",
      "Here is an example: "
     ]
    },
    {
     "cell_type": "code",
     "collapsed": false,
     "input": [
      "import cobra\n",
      "import cobra.io"
     ],
     "language": "python",
     "metadata": {},
     "outputs": [],
     "prompt_number": 3
    },
    {
     "cell_type": "code",
     "collapsed": false,
     "input": [
      "print cobra.__version__"
     ],
     "language": "python",
     "metadata": {},
     "outputs": [
      {
       "output_type": "stream",
       "stream": "stdout",
       "text": [
        "0.3.0b3.post44+git69e9de1\n"
       ]
      }
     ],
     "prompt_number": 4
    },
    {
     "cell_type": "code",
     "collapsed": false,
     "input": [
      "# Load a cobra model from anywhere you like\n",
      "model = cobra.io.read_sbml_model('E coli core.xml')"
     ],
     "language": "python",
     "metadata": {},
     "outputs": [],
     "prompt_number": 5
    },
    {
     "cell_type": "code",
     "collapsed": false,
     "input": [
      "# generate a json file to load into Escher\n",
      "cobra.io.save_json_model(model, 'E coli core.json')"
     ],
     "language": "python",
     "metadata": {},
     "outputs": [],
     "prompt_number": 6
    },
    {
     "cell_type": "code",
     "collapsed": false,
     "input": [],
     "language": "python",
     "metadata": {},
     "outputs": []
    }
   ],
   "metadata": {}
  }
 ]
}